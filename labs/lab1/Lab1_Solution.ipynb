{
 "cells": [
  {
   "cell_type": "markdown",
   "metadata": {},
   "source": [
    "# Lab 1"
   ]
  },
  {
   "cell_type": "markdown",
   "metadata": {},
   "source": [
    "# Exercise 1: Computer Security\n",
    "\n",
    "An authentication scheme allows a human to log onto a computer over an insecure network. The most familiar scheme is based on passwords where Harry, the human, sends his password to Carole, the computer, and the computer verifies that it is the correct password. However, if Eve, the eavesdropper, can read the bits going over the network, she can learn the password by observing just one log-in.\n",
    "A more secure scheme is a challenge-response scheme. In a series of trials, Carole repeatedly asks Harry questions that someone not possessing the password would be unlikely to answer correctly. If Harry answers the questions correctly, Carole concludes that Harry knows the password. Let us look at an example.\n",
    "Suppose the password is an n-bit string, i.e., a vector x with n entries, where the entries are binary (zeros and ones), and chosen uniformly at random. More formally, the vector is said to be defined over GF(2), which is short for Galois Field 2. The field GF(2) has only two elements, 0 and 1. Addition in GF(2) is modulo 2, i.e., equivalent to exclusive-OR. Multiplication in GF(2) is just like ordinary multiplication. In this exercise, all data is assumed to be in GF(2).\n",
    "In the ith trial, Carole selects a nonzero vector ci, a challenge vector, and sends it to Harry. Harry is required to send back a single bit βi, which is supposed to be the dot product of ci and the password x. Carole then checks whether 𝛽𝑖 = c𝑖 ⋅ x. If Harry passes enough trials, Carole concludes that Harry knows the password, and allows him to log in."
   ]
  },
  {
   "cell_type": "markdown",
   "metadata": {},
   "source": [
    "## Question 1\n",
    "Suppose the password x is 10111. Harry initiates log-in. What is Harry’s response to Carole’s\n",
    "challenge vectors c1 = 01011 and c2 = 11110.\n",
    "[NOTE: In Python, the dot product of two vectors v1 = 1101 and v2 = 1111 will return 3. However GF(2) has only the elements 0 and 1. To ensure that the answer is in GF(2), you should compute 3 mod 2.]"
   ]
  },
  {
   "cell_type": "code",
   "execution_count": 1,
   "metadata": {},
   "outputs": [],
   "source": [
    "# Import libs\n",
    "import numpy as np\n",
    "\n",
    "import scipy\n",
    "from scipy import linalg # need to import this explicitly bc the maintainers decided so..."
   ]
  },
  {
   "cell_type": "code",
   "execution_count": 2,
   "metadata": {},
   "outputs": [
    {
     "name": "stdout",
     "output_type": "stream",
     "text": [
      "Challange 1 response (B1):\t 0\n",
      "Challange 2 response (B2):\t 0\n"
     ]
    }
   ],
   "source": [
    "# Password\n",
    "pw = np.array([1,0,1,1,1])\n",
    "\n",
    "# Challenges\n",
    "c1 = np.array([0,1,0,1,1])\n",
    "c2 = np.array([1,1,1,1,0])\n",
    "\n",
    "## Check\n",
    "b1 = np.dot(pw, c1)%2\n",
    "b2 = np.dot(pw, c2)%2\n",
    "\n",
    "print(\"Challange 1 response (B1):\\t\", b1)\n",
    "print(\"Challange 2 response (B2):\\t\", b1)"
   ]
  },
  {
   "cell_type": "markdown",
   "metadata": {},
   "source": [
    "## Question 2\n",
    "\n",
    "Enter Eve! Suppose Eve had observed Harry’s response ( 𝛽1 𝑎𝑛𝑑 𝛽2) and the first two challenge vectors (c1and c2). Subsequently, she tries to login as Harry and Carole happens to send her as a challenge vector the sum of c1 = 01011 and c2 = 11110. Even though Eve does not know the password, she can use the distributive property to compute the dot product of this sum with the password x:\n",
    "     \n",
    "`(01011+11110)⋅x=01011⋅x+11110 ⋅x`\n",
    "\n",
    "Find the response to this challenge vector without using x. Next, since you know the password, verify that this is indeed the correct response to the challenge vector by adding the terms in the bracket and taking the dot product with x."
   ]
  },
  {
   "cell_type": "code",
   "execution_count": 3,
   "metadata": {},
   "outputs": [
    {
     "name": "stdout",
     "output_type": "stream",
     "text": [
      "response: 1\n"
     ]
    }
   ],
   "source": [
    "# Eve manages to get the exact same challenges (c1 & c2)\n",
    "\n",
    "# Eve also has the responses to the 2 challenges (b1 & b2)\n",
    "\n",
    "# So Eve can just do this:\n",
    "\n",
    "response = (b1 + b2) % 2\n",
    "print(\"response:\", response)\n"
   ]
  },
  {
   "cell_type": "markdown",
   "metadata": {},
   "source": [
    "## Question 3\n",
    "\n",
    "Extending the above idea, Eve can compute the right response to the sum of any number of previous challenges for which she has the right response. Mathematically,\n",
    "\n",
    "if `c⋅x=𝛽1, c⋅x=𝛽2, c ⋅x=𝛽3`\n",
    "then `(c1 + c2 + ⋯ + ck)⋅x = (𝛽1 + 𝛽2 + ⋯ +𝛽k)`\n",
    "\n",
    "Assume Eve knows the following challenges and responses:\n",
    "\n",
    "|Challenge|Response|\n",
    "|-------|--------|\n",
    "|110011|0|\n",
    "|101010|0|\n",
    "|111011|1|\n",
    "|001100|1|\n",
    "\n",
    "Show how she can derive the right response to two new challenges ca = 011001 and cb = 110111. You can consider your Python script to be a function whose inputs are Ch and c, where Ch is the matrix whose rows are the challenges that she already knows (from the table) and c is either ca or cb. The output of the function will be the response (to ca or cb).\n",
    "  "
   ]
  },
  {
   "cell_type": "code",
   "execution_count": 4,
   "metadata": {},
   "outputs": [
    {
     "name": "stdout",
     "output_type": "stream",
     "text": [
      "[[1 1 0 0 1 1 0]\n",
      " [1 0 1 0 1 0 0]\n",
      " [0 0 1 0 0 0 1]\n",
      " [0 0 1 1 0 0 1]]\n",
      "[[1 1 0 0 1 1 0]\n",
      " [1 0 1 0 1 0 0]\n",
      " [0 0 1 0 0 0 1]\n",
      " [0 0 0 1 0 0 0]]\n",
      "[[0 1 0 0 0 1 1]\n",
      " [1 0 1 0 1 0 0]\n",
      " [0 0 1 0 0 0 1]\n",
      " [0 0 0 1 0 0 0]]\n"
     ]
    },
    {
     "data": {
      "text/plain": [
       "0"
      ]
     },
     "execution_count": 4,
     "metadata": {},
     "output_type": "execute_result"
    }
   ],
   "source": [
    "Ch = np.array([[1,1,0,0,1,1,0],\n",
    "               [1,0,1,0,1,0,0],\n",
    "               [1,1,1,0,1,1,1],\n",
    "               [0,0,1,1,0,0,1]])\n",
    "\n",
    "Ch[2]=(Ch[0]+Ch[2])%2\n",
    "print(Ch)\n",
    "Ch[3]=(Ch[2]+Ch[3])%2\n",
    "print(Ch)\n",
    "Ch[0]=(Ch[0]+Ch[1]+Ch[2])%2\n",
    "print(Ch)\n",
    "Ch[1]=(Ch[1]+Ch[2])%2\n",
    "\n",
    "def response(Ch, c):\n",
    "    #if challenged 011001\n",
    "    if c == \"011001\":\n",
    "        result = ((Ch[0]+Ch[2]))%2\n",
    "        #Ch[0] + Ch[2] = 0110010\n",
    "        return result[6]\n",
    "    #if challenge 110111\n",
    "    elif c == \"110111\":\n",
    "        result = ((Ch[1]+Ch[0]+Ch[3]))%2\n",
    "        #Ch[1]+Ch[0]+Ch[3] = 1101110\n",
    "        return result[6]\n",
    "    \n",
    "response(Ch, \"110111\")"
   ]
  },
  {
   "attachments": {
    "Screenshot%202021-02-25%20at%208.33.45%20AM.png": {
     "image/png": "[encoded data removed]"
    }
   },
   "cell_type": "markdown",
   "metadata": {},
   "source": [
    "## Question 4\n",
    "Suppose Eve eavesdrops on communication, and learns m pairs (c1, 𝛽1), ⋯ , (c𝑚, 𝛽𝑚) such that 𝛽𝑖\n",
    "is the correct response to challenge c𝑖. Then the password x is a solution to\n",
    "\n",
    "![Screenshot%202021-02-25%20at%208.33.45%20AM.png](attachment:Screenshot%202021-02-25%20at%208.33.45%20AM.png)\n",
    "\n",
    "What is the condition on the vectors c1, c2, ⋯ , c𝑚 in eq. (1) to have a solution? In addition to the data in the table in Question 3, she observes the following two responses also:\n",
    "\n",
    "|Challenge|Response|\n",
    "|-------|--------|\n",
    "|011011|0|\n",
    "|110100|1|\n",
    "\n",
    "Solve eq. (1) to find the password x. Use scipy.linalg.solve (see [here](https://docs.scipy.org/doc/scipy/reference/generated/scipy.linalg.solve.html))."
   ]
  },
  {
   "cell_type": "code",
   "execution_count": 5,
   "metadata": {},
   "outputs": [
    {
     "name": "stdout",
     "output_type": "stream",
     "text": [
      "Password is [1. 0. 1. 0. 0. 1.]\n"
     ]
    }
   ],
   "source": [
    "# Our pw is 6 digits so we need 6+ challanges in our matrix\n",
    "\n",
    "Ch_2 = np.array(\n",
    "        [[1,1,0,0,1,1],\n",
    "         [1,0,1,0,1,0],\n",
    "         [1,1,1,0,1,1],\n",
    "         [0,0,1,1,0,0],\n",
    "         [0,1,1,0,1,1], # new!\n",
    "         [1,1,0,1,0,0]] # new!\n",
    ")\n",
    "\n",
    "Bh = np.array([0,0,1,1,0,1])\n",
    "\n",
    "x = scipy.linalg.solve(Ch_2, Bh) % 2\n",
    "print(\"Password is\", np.array(x))\n"
   ]
  },
  {
   "cell_type": "markdown",
   "metadata": {},
   "source": [
    "# Exercise 2: ML - Linear Regression"
   ]
  },
  {
   "cell_type": "markdown",
   "metadata": {},
   "source": [
    "## Question 5\n",
    "Consider the following data regarding house prices:\n",
    "\n",
    "|House|𝑥1 (area in 1000 sq ft)|y (price in 1000 dollars)|\n",
    "|---|---|---|\n",
    "|1 | 0.846|115.00|\n",
    "|2 |1.324|234.50|\n",
    "|3 |1.150|198.00|\n",
    "|4 |3.037|528.00|\n",
    "|5 |3.984|572.50|\n",
    "\n",
    "What is the matrix 𝐴 and the vector b for the above data?\n",
    "* WITHOUT using scipy.linalg.solve, solve eq. (1) for m and c.\n",
    "*  Plot the data (𝑥1, 𝑦) and the fitted line.\n",
    "    y (price in 1000 dollars) 115.00\n",
    "    234.50 198.00 528.00 572.50\n",
    "                  \n",
    "    ```python\n",
    "    import matplotlib.pyplot as plt\n",
    "    xs = np.linspace(0,1,5)\n",
    "    ys = c + m*xs\n",
    "    plt.plot(xs,ys,'r',linewidth=4) # plots fitted line \n",
    "    plt.scatter(x,y); # plots data(𝑥1, 𝑦)\n",
    "    plt.show()\n",
    "    ```"
   ]
  },
  {
   "cell_type": "code",
   "execution_count": 6,
   "metadata": {},
   "outputs": [
    {
     "name": "stdout",
     "output_type": "stream",
     "text": [
      "matrix A before ops:\n",
      "[[  28.886817   10.341    4519.844   ]\n",
      " [  10.341       5.       1648.      ]]\n",
      "\n",
      "vector b:\n",
      "[[4519.844]\n",
      " [1648.   ]]\n"
     ]
    }
   ],
   "source": [
    "x = np.array([0.846, 1.324, 1.150, 3.037, 3.984])\n",
    "y = np.array([115.00,234.50,198.00,528.00,572.50]) # array of fitted line\n",
    "n = len(x)\n",
    "sum_x = np.sum(x)\n",
    "sum_y = np.sum(y)\n",
    "sum_x2 = np.sum(x*x)\n",
    "sum_xy = np.sum(x*y)\n",
    "\n",
    "# A = np.array([[sum_x2, sum_x, sum_xy],\n",
    "#              [sum_x, n, sum_y]])\n",
    "\n",
    "A = np.array([[sum_x2, sum_x, sum_xy], # aug'd\n",
    "             [sum_x, n, sum_y]])\n",
    "\n",
    "b = np.array([[sum_xy],[sum_y]])\n",
    "print(\"matrix A before ops:\")\n",
    "print(A)\n",
    "print()\n",
    "print(\"vector b:\")\n",
    "print(b)"
   ]
  },
  {
   "cell_type": "code",
   "execution_count": 7,
   "metadata": {},
   "outputs": [
    {
     "name": "stdout",
     "output_type": "stream",
     "text": [
      "Matrix A after ops\n",
      "[[  1.           0.         148.20206538]\n",
      " [  0.           1.          23.08848838]]\n"
     ]
    }
   ],
   "source": [
    "# run elementary row ops on matrix A until row echelon form\n",
    "\n",
    "A[0] = A[0]/A[0][0]\n",
    "A[1] = A[1]/A[1][0] - A[0]\n",
    "A[1] = A[1]/A[1][1]\n",
    "A[0] = A[0]-(A[1]*A[0][1])\n",
    "\n",
    "# Printmatrix\n",
    "print(\"Matrix A after ops\")\n",
    "print(A)"
   ]
  },
  {
   "cell_type": "code",
   "execution_count": 8,
   "metadata": {},
   "outputs": [
    {
     "name": "stdout",
     "output_type": "stream",
     "text": [
      "m is: 148.2020653796153\n",
      "c is: 23.08848838187969\n"
     ]
    }
   ],
   "source": [
    "\n",
    "m = A[0,2]\n",
    "c = A[1,2]\n",
    "print(\"m is:\", m)\n",
    "print(\"c is:\", c)"
   ]
  },
  {
   "cell_type": "code",
   "execution_count": 9,
   "metadata": {},
   "outputs": [
    {
     "data": {
      "image/png": "[encoded data removed]",
      "text/plain": [
       "<Figure size 432x288 with 1 Axes>"
      ]
     },
     "metadata": {
      "needs_background": "light"
     },
     "output_type": "display_data"
    }
   ],
   "source": [
    "# Plot the data\n",
    "\n",
    "import matplotlib.pyplot as plt\n",
    "xs = np.linspace(0,1,5)\n",
    "ys = c + m*xs\n",
    "plt.plot(xs,ys,'r',linewidth=4) # plots fitted line\n",
    "plt.scatter(x,y); # plots data(𝑥1, 𝑦)\n",
    "plt.show()"
   ]
  },
  {
   "cell_type": "markdown",
   "metadata": {},
   "source": [
    "## Problem 6\n",
    "\n",
    "Suppose we have additional information on the houses in the form of number of bedrooms. The\n",
    "above table including this information is shown below:\n",
    "...\n",
    "..."
   ]
  },
  {
   "cell_type": "markdown",
   "metadata": {},
   "source": [
    "(a) Use scipy.linalg.solve to determine the vector 𝐚."
   ]
  },
  {
   "cell_type": "code",
   "execution_count": 10,
   "metadata": {},
   "outputs": [
    {
     "name": "stdout",
     "output_type": "stream",
     "text": [
      "matrix a:\n",
      "[ 10.12890804 130.52940043  16.470062  ]\n"
     ]
    }
   ],
   "source": [
    "# We've already imported linalg.solve, so skipping\n",
    "\n",
    "x1 = [0.846, 1.324, 1.150, 3.037, 3.984]\n",
    "x2 = [1,2,3,4,5]\n",
    "y = [115.00, 234.50, 198.00, 528.00, 572.00]\n",
    "\n",
    "big_x = np.vstack(([1,1,1,1,1], x1, x2)).T  # transpose it!\n",
    "\n",
    "big_xt_dot_big_x = np.matmul(big_x.T, big_x)\n",
    "\n",
    "big_xt_dot_y = np.matmul(big_x.T, y)\n",
    "\n",
    "a = scipy.linalg.solve(big_xt_dot_big_x, big_xt_dot_y)\n",
    "\n",
    "print(\"matrix a:\")\n",
    "print(a)\n",
    "\n"
   ]
  },
  {
   "cell_type": "markdown",
   "metadata": {},
   "source": [
    "(b) Plot the 3D data (𝑥1, 𝑥2, 𝑦) and the fitted plane. [See here for help on 3D plotting]"
   ]
  },
  {
   "cell_type": "code",
   "execution_count": 11,
   "metadata": {},
   "outputs": [
    {
     "data": {
      "text/plain": [
       "<mpl_toolkits.mplot3d.art3d.Poly3DCollection at 0x7fa277adbc70>"
      ]
     },
     "execution_count": 11,
     "metadata": {},
     "output_type": "execute_result"
    },
    {
     "data": {
      "image/png": "[encoded data removed]",
      "text/plain": [
       "<Figure size 432x288 with 1 Axes>"
      ]
     },
     "metadata": {
      "needs_background": "light"
     },
     "output_type": "display_data"
    }
   ],
   "source": [
    "# see: https://jakevdp.github.io/PythonDataScienceHandbook/04.12-three-dimensional-plotting.html\n",
    "from mpl_toolkits import mplot3d\n",
    "\n",
    "%matplotlib inline\n",
    "import numpy as np\n",
    "import matplotlib.pyplot as plt\n",
    "\n",
    "# now that we have a0, a1 & a2 - we can plot the stuff!!\n",
    "\n",
    "ax = plt.axes(projection='3d')\n",
    "\n",
    "x1_lin = np.linspace(0, 5, 10)\n",
    "x2_lin = np.linspace(0, 5, 10)\n",
    "\n",
    "x1, y1 = np.meshgrid(x1_lin, x2_lin)\n",
    "z1 = a[0] + a[1]*x1 + (a[2]*y1)\n",
    "\n",
    "# todo\n",
    "ax.plot_surface(x1, y1, z1, color=\"blue\")\n",
    "\n",
    "# ax.scatter3d(x1, x2, y1)\n"
   ]
  },
  {
   "cell_type": "markdown",
   "metadata": {},
   "source": [
    "(c) Using the obtained vector 𝐚, predict the prices of each of the 5 houses."
   ]
  },
  {
   "cell_type": "code",
   "execution_count": null,
   "metadata": {},
   "outputs": [],
   "source": []
  },
  {
   "cell_type": "markdown",
   "metadata": {},
   "source": [
    "# Exercise 3: Cryptography - Threshold secret sharing"
   ]
  },
  {
   "cell_type": "code",
   "execution_count": 12,
   "metadata": {},
   "outputs": [],
   "source": [
    "# Define statics\n",
    "a0 = np.array([1,1,0,1,0,1])\n",
    "b0 = np.array([1,1,0,0,1,1])\n",
    "\n",
    "# a0 . u = s\n",
    "# u = a0 . s^-1\n",
    "\n",
    "# def random_vector(s, t):\n",
    "    \n",
    "    "
   ]
  },
  {
   "cell_type": "code",
   "execution_count": null,
   "metadata": {},
   "outputs": [],
   "source": []
  },
  {
   "cell_type": "code",
   "execution_count": null,
   "metadata": {},
   "outputs": [],
   "source": []
  }
 ],
 "metadata": {
  "kernelspec": {
   "display_name": "Python 3",
   "language": "python",
   "name": "python3"
  },
  "language_info": {
   "codemirror_mode": {
    "name": "ipython",
    "version": 3
   },
   "file_extension": ".py",
   "mimetype": "text/x-python",
   "name": "python",
   "nbconvert_exporter": "python",
   "pygments_lexer": "ipython3",
   "version": "3.8.5"
  }
 },
 "nbformat": 4,
 "nbformat_minor": 4
}
